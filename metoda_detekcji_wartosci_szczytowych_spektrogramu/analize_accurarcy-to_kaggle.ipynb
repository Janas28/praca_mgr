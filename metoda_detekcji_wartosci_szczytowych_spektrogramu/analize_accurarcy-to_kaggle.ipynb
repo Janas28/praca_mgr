{
 "cells": [
  {
   "cell_type": "code",
   "execution_count": 2,
   "metadata": {},
   "outputs": [],
   "source": [
    "import librosa\n",
    "\n",
    "# This Python 3 environment comes with many helpful analytics libraries installed\n",
    "# It is defined by the kaggle/python Docker image: https://github.com/kaggle/docker-python\n",
    "# For example, here's several helpful packages to load\n",
    "\n",
    "import numpy as np # linear algebra\n",
    "import pandas as pd # data processing, CSV file I/O (e.g. pd.read_csv)\n",
    "\n",
    "# Input data files are available in the read-only \"../input/\" directory\n",
    "# For example, running this (by clicking run or pressing Shift+Enter) will list all files under the input directory\n",
    "\n",
    "import os\n",
    "\n",
    "audioFilePaths = []\n",
    "recordingInfoFilePaths = []\n",
    "for dirname, _, filenames in os.walk('C:/Users/u144572/self_development/mgr/Respiratory_Sound_Database/audio_and_txt_files'):\n",
    "    for filename in filenames:\n",
    "        fullPath = os.path.join(dirname, filename)\n",
    "        if filename.endswith(\"wav\"):\n",
    "            audioFilePaths.append(fullPath)\n",
    "        elif filename.endswith(\"txt\"):\n",
    "            recordingInfoFilePaths.append(fullPath) \n",
    "        #print(os.path.join(dirname, filename))"
   ]
  },
  {
   "cell_type": "code",
   "execution_count": 3,
   "metadata": {},
   "outputs": [],
   "source": [
    "import csv\n",
    "\n",
    "def extractFilenameWithoutExtension(fullPath):\n",
    "    fileName = os.path.basename(fullPath)\n",
    "    fileNameWithoutPath = os.path.splitext(fileName)[0]\n",
    "    return fileNameWithoutPath\n",
    "\n",
    "#(fullPaths:string[]) => dict<filename:string, (start, end, hasCrackles, hasWheezes)[]>\n",
    "def getFileInfoDict(pathList):\n",
    "    fileInfoDict = {}\n",
    "    for path in pathList:\n",
    "        fileNameWithoutPath = extractFilenameWithoutExtension(path) \n",
    "        infoList = []\n",
    "        with open(path, 'r') as hFile:\n",
    "            reader = csv.reader(hFile, delimiter='\\t')\n",
    "            for row in reader:\n",
    "                startTime = float(row[0])\n",
    "                endTime = float(row[1])\n",
    "                hasCrackles = True if int(row[2]) == 1 else False\n",
    "                hasWheezes = True if int(row[3]) == 1 else False\n",
    "                infoList.append((startTime, endTime, hasCrackles, hasWheezes))\n",
    "                \n",
    "        fileInfoDict[fileNameWithoutPath] = infoList\n",
    "    return fileInfoDict\n",
    " \n",
    "audioFilePathsWithoutExtension = [extractFilenameWithoutExtension(path) for path in audioFilePaths]\n",
    "fileInfoDict = getFileInfoDict(recordingInfoFilePaths)\n",
    "#List order is aligned with the order in which the audio clips are extracted\n",
    "fileInfoList = [fileInfoDict[audioPath] for audioPath in audioFilePathsWithoutExtension] "
   ]
  },
  {
   "cell_type": "code",
   "execution_count": 4,
   "metadata": {},
   "outputs": [
    {
     "name": "stdout",
     "output_type": "stream",
     "text": [
      "30.614427272538645\n"
     ]
    }
   ],
   "source": [
    "sec_sum_of_audio_files = 0\n",
    "for x in fileInfoDict:\n",
    "    sec_sum_of_audio_files += librosa.get_duration(path=\"C:/Users/u144572/self_development/mgr/Respiratory_Sound_Database/audio_and_txt_files/\" + x + \".wav\")\n",
    "\n",
    "print(10089/(sec_sum_of_audio_files/60))"
   ]
  },
  {
   "cell_type": "code",
   "execution_count": 18,
   "metadata": {},
   "outputs": [],
   "source": [
    "deases_dict = {}\n",
    "for x in fileInfoDict:\n",
    "    deases_dict[x] = {\n",
    "            \"crackles\": False, \n",
    "            \"wheezes\": False, \n",
    "            \"cycles_no\": len(fileInfoDict[x]),\n",
    "            \"audio_length\": librosa.get_duration(path=\"C:/Users/u144572/self_development/mgr/Respiratory_Sound_Database/audio_and_txt_files/\" + x + \".wav\"),\n",
    "            \"rr\": round(len(fileInfoDict[x])/(librosa.get_duration(path=\"C:/Users/u144572/self_development/mgr/Respiratory_Sound_Database/audio_and_txt_files/\" + x + \".wav\")/60),2)\n",
    "    }\n",
    "    for y in fileInfoDict[x]:\n",
    "            if y[2] == 1:\n",
    "                deases_dict[x][\"crackles\"] = True\n",
    "            if y[3] == 1:\n",
    "                deases_dict[x][\"wheezes\"] = True\n",
    "                 "
   ]
  },
  {
   "cell_type": "code",
   "execution_count": 20,
   "metadata": {},
   "outputs": [
    {
     "name": "stdout",
     "output_type": "stream",
     "text": [
      "21.22515990207822 20.333277580864706 21.628346211101015 20.964553424222725\n"
     ]
    }
   ],
   "source": [
    "healthy_cycles_no = 0\n",
    "healthy_length = 0\n",
    "\n",
    "crackles_cycles_no = 0\n",
    "crackles_length = 0\n",
    "\n",
    "wheezes_cycles_no = 0\n",
    "wheezes_length = 0\n",
    "\n",
    "both_cycles_no = 0\n",
    "both_length = 0\n",
    "\n",
    "for x in deases_dict:\n",
    "    if deases_dict[x][\"crackles\"] == True and deases_dict[x][\"wheezes\"] == True:\n",
    "        both_cycles_no += deases_dict[x][\"cycles_no\"]\n",
    "        both_length += deases_dict[x][\"audio_length\"]\n",
    "    if deases_dict[x][\"crackles\"] == False and deases_dict[x][\"wheezes\"] == True:\n",
    "        wheezes_cycles_no += deases_dict[x][\"cycles_no\"]\n",
    "        wheezes_length += deases_dict[x][\"audio_length\"]\n",
    "    if deases_dict[x][\"crackles\"] == True and deases_dict[x][\"wheezes\"] == False:\n",
    "        crackles_cycles_no += deases_dict[x][\"cycles_no\"]\n",
    "        crackles_length += deases_dict[x][\"audio_length\"]\n",
    "    else:\n",
    "        healthy_cycles_no += deases_dict[x][\"cycles_no\"]\n",
    "        healthy_length += deases_dict[x][\"audio_length\"]\n",
    "\n",
    "healthy_rr = healthy_cycles_no/(healthy_length/60)\n",
    "crackles_rr = crackles_cycles_no/(crackles_length/60)\n",
    "wheezes_rr = wheezes_cycles_no/(wheezes_length/60)\n",
    "both_rr = both_cycles_no/(both_length/60)\n",
    "print(healthy_rr, crackles_rr, wheezes_rr, both_rr)"
   ]
  },
  {
   "cell_type": "code",
   "execution_count": 21,
   "metadata": {},
   "outputs": [
    {
     "data": {
      "text/plain": [
       "{'crackles': True,\n",
       " 'wheezes': False,\n",
       " 'cycles_no': 10,\n",
       " 'audio_length': 20.0,\n",
       " 'rr': 30.0}"
      ]
     },
     "execution_count": 21,
     "metadata": {},
     "output_type": "execute_result"
    }
   ],
   "source": [
    "deases_dict[\"226_1b1_Al_sc_Meditron\"]"
   ]
  }
 ],
 "metadata": {
  "kernelspec": {
   "display_name": "Python 3",
   "language": "python",
   "name": "python3"
  },
  "language_info": {
   "codemirror_mode": {
    "name": "ipython",
    "version": 3
   },
   "file_extension": ".py",
   "mimetype": "text/x-python",
   "name": "python",
   "nbconvert_exporter": "python",
   "pygments_lexer": "ipython3",
   "version": "3.9.7"
  }
 },
 "nbformat": 4,
 "nbformat_minor": 2
}
