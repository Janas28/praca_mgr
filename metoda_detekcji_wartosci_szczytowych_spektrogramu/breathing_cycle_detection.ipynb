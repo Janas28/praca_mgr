{
 "cells": [
  {
   "cell_type": "code",
   "execution_count": 1,
   "metadata": {},
   "outputs": [
    {
     "name": "stdout",
     "output_type": "stream",
     "text": [
      "920\n",
      "921\n"
     ]
    }
   ],
   "source": [
    "# This Python 3 environment comes with many helpful analytics libraries installed\n",
    "# It is defined by the kaggle/python Docker image: https://github.com/kaggle/docker-python\n",
    "# For example, here's several helpful packages to load\n",
    "\n",
    "import numpy as np # linear algebra\n",
    "import pandas as pd # data processing, CSV file I/O (e.g. pd.read_csv)\n",
    "\n",
    "# Input data files are available in the read-only \"../input/\" directory\n",
    "# For example, running this (by clicking run or pressing Shift+Enter) will list all files under the input directory\n",
    "\n",
    "import os\n",
    "\n",
    "audioFilePaths = []\n",
    "recordingInfoFilePaths = []\n",
    "for dirname, _, filenames in os.walk('/home/jan/magisterka/Respiratory_Sound_Database/audio_and_txt_files'):\n",
    "    for filename in filenames:\n",
    "        fullPath = os.path.join(dirname, filename)\n",
    "        if filename.endswith(\"wav\"):\n",
    "            audioFilePaths.append(fullPath)\n",
    "        elif filename.endswith(\"txt\"):\n",
    "            recordingInfoFilePaths.append(fullPath) \n",
    "        #print(os.path.join(dirname, filename))\n",
    "\n",
    "print(len(audioFilePaths))\n",
    "print(len(recordingInfoFilePaths))"
   ]
  },
  {
   "cell_type": "code",
   "execution_count": 2,
   "metadata": {},
   "outputs": [],
   "source": [
    "import librosa\n",
    "\n",
    "gSampleRate = 7000\n",
    "\n",
    "def loadFiles(fileList):\n",
    "    outputBuffers = []\n",
    "    for filename in fileList:\n",
    "        audioBuffer, nativeSampleRate = librosa.load(filename, dtype=np.float32, mono=True, sr=None)\n",
    "        if nativeSampleRate == gSampleRate:\n",
    "            outputBuffers.append(audioBuffer)\n",
    "        else:\n",
    "        #Linear resampling using numpy is significantly faster than Librosa's default technique\n",
    "            duration = len(audioBuffer) / nativeSampleRate\n",
    "            nTargetSamples = int(duration * gSampleRate)\n",
    "            timeXSource = np.linspace(0, duration, len(audioBuffer), dtype=np.float32)\n",
    "            timeX = np.linspace(0, duration, nTargetSamples, dtype=np.float32)\n",
    "            resampledBuffer = np.interp(timeX, timeXSource, audioBuffer)\n",
    "            outputBuffers.append(resampledBuffer)\n",
    "            \n",
    "    return outputBuffers\n",
    "\n",
    "audioBuffers = loadFiles(audioFilePaths)"
   ]
  },
  {
   "cell_type": "code",
   "execution_count": null,
   "metadata": {},
   "outputs": [],
   "source": [
    "\n",
    "\n",
    "from scipy import signal\n",
    "import matplotlib.pyplot as plt\n",
    "\n",
    "upperCutoffFreq = 3000\n",
    "cutoffFrequencies = [80, upperCutoffFreq]\n",
    "\n",
    "#FIR coefficients for a bandpass filter with a window of 80-3000 Hz\n",
    "highPassCoeffs = signal.firwin(401, cutoffFrequencies, fs=gSampleRate, pass_zero=\"bandpass\")\n",
    "\n",
    "def applyHighpass(npArr):\n",
    "    return signal.lfilter(highPassCoeffs, [1.0], npArr)\n",
    "\n",
    "#Higher gamma results in more aggressive compression\n",
    "def applyLogCompressor(signal, gamma):\n",
    "    sign = np.sign(signal)\n",
    "    absSignal = 1 + np.abs(signal) * gamma\n",
    "    logged = np.log(absSignal)\n",
    "    scaled = logged * (1 / np.log(1.0 + gamma)) #Divide by the maximum possible value from compression\n",
    "    return sign * scaled\n",
    "\n",
    "#Scales all samples to ensure the peak signal is 1/-1\n",
    "def normalizeVolume(npArr):\n",
    "    minAmp, maxAmp = (np.amin(npArr), np.amax(npArr))\n",
    "    maxEnv = max(abs(minAmp), abs(maxAmp))\n",
    "    scale = 1.0 / maxEnv\n",
    "    #in place multiply\n",
    "    npArr *= scale\n",
    "    return npArr\n",
    "\n",
    "#Removing the low-freq noise, re-normalizing volume then apply compressor\n",
    "noiseRemoved = [normalizeVolume(applyHighpass(buffer)) for buffer in audioBuffers]\n",
    "noiseRemoved = [applyLogCompressor(sig, 30) for sig in noiseRemoved]"
   ]
  }
 ],
 "metadata": {
  "kernelspec": {
   "display_name": "Python 3",
   "language": "python",
   "name": "python3"
  },
  "language_info": {
   "codemirror_mode": {
    "name": "ipython",
    "version": 3
   },
   "file_extension": ".py",
   "mimetype": "text/x-python",
   "name": "python",
   "nbconvert_exporter": "python",
   "pygments_lexer": "ipython3",
   "version": "3.10.12"
  }
 },
 "nbformat": 4,
 "nbformat_minor": 2
}
