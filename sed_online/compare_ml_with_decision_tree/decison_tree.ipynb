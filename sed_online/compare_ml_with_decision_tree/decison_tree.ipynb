{
 "cells": [
  {
   "cell_type": "code",
   "execution_count": 5,
   "metadata": {},
   "outputs": [
    {
     "name": "stderr",
     "output_type": "stream",
     "text": [
      "C:\\Users\\u144572\\AppData\\Local\\Temp\\ipykernel_71452\\562954933.py:116: FutureWarning: get_duration() keyword argument 'filename' has been renamed to 'path' in version 0.10.0.\n",
      "\tThis alias will be removed in version 1.0.\n",
      "  audio_length = librosa.get_duration(filename=f'{root}{file_name}.wav')\n",
      "C:\\Users\\u144572\\AppData\\Roaming\\Python\\Python39\\site-packages\\tensorflow\\python\\keras\\engine\\base_layer_v1.py:1694: UserWarning: `layer.apply` is deprecated and will be removed in a future version. Please use `layer.__call__` method instead.\n",
      "  warnings.warn('`layer.apply` is deprecated and '\n",
      "C:\\Users\\u144572\\AppData\\Roaming\\Python\\Python39\\site-packages\\tensorflow\\python\\keras\\legacy_tf_layers\\core.py:318: UserWarning: `tf.layers.flatten` is deprecated and will be removed in a future version. Please use `tf.keras.layers.Flatten` instead.\n",
      "  warnings.warn('`tf.layers.flatten` is deprecated and '\n"
     ]
    },
    {
     "name": "stdout",
     "output_type": "stream",
     "text": [
      "INFO:tensorflow:Restoring parameters from decison_tree_model/vggish_model.ckpt\n"
     ]
    },
    {
     "name": "stderr",
     "output_type": "stream",
     "text": [
      "C:\\Users\\u144572\\AppData\\Local\\Temp\\ipykernel_71452\\562954933.py:116: FutureWarning: get_duration() keyword argument 'filename' has been renamed to 'path' in version 0.10.0.\n",
      "\tThis alias will be removed in version 1.0.\n",
      "  audio_length = librosa.get_duration(filename=f'{root}{file_name}.wav')\n",
      "C:\\Users\\u144572\\AppData\\Roaming\\Python\\Python39\\site-packages\\tensorflow\\python\\keras\\engine\\base_layer_v1.py:1694: UserWarning: `layer.apply` is deprecated and will be removed in a future version. Please use `layer.__call__` method instead.\n",
      "  warnings.warn('`layer.apply` is deprecated and '\n",
      "C:\\Users\\u144572\\AppData\\Roaming\\Python\\Python39\\site-packages\\tensorflow\\python\\keras\\legacy_tf_layers\\core.py:318: UserWarning: `tf.layers.flatten` is deprecated and will be removed in a future version. Please use `tf.keras.layers.Flatten` instead.\n",
      "  warnings.warn('`tf.layers.flatten` is deprecated and '\n"
     ]
    },
    {
     "name": "stdout",
     "output_type": "stream",
     "text": [
      "INFO:tensorflow:Restoring parameters from decison_tree_model/vggish_model.ckpt\n"
     ]
    },
    {
     "name": "stderr",
     "output_type": "stream",
     "text": [
      "C:\\Users\\u144572\\AppData\\Local\\Temp\\ipykernel_71452\\562954933.py:116: FutureWarning: get_duration() keyword argument 'filename' has been renamed to 'path' in version 0.10.0.\n",
      "\tThis alias will be removed in version 1.0.\n",
      "  audio_length = librosa.get_duration(filename=f'{root}{file_name}.wav')\n",
      "C:\\Users\\u144572\\AppData\\Roaming\\Python\\Python39\\site-packages\\tensorflow\\python\\keras\\engine\\base_layer_v1.py:1694: UserWarning: `layer.apply` is deprecated and will be removed in a future version. Please use `layer.__call__` method instead.\n",
      "  warnings.warn('`layer.apply` is deprecated and '\n",
      "C:\\Users\\u144572\\AppData\\Roaming\\Python\\Python39\\site-packages\\tensorflow\\python\\keras\\legacy_tf_layers\\core.py:318: UserWarning: `tf.layers.flatten` is deprecated and will be removed in a future version. Please use `tf.keras.layers.Flatten` instead.\n",
      "  warnings.warn('`tf.layers.flatten` is deprecated and '\n"
     ]
    },
    {
     "name": "stdout",
     "output_type": "stream",
     "text": [
      "INFO:tensorflow:Restoring parameters from decison_tree_model/vggish_model.ckpt\n"
     ]
    },
    {
     "name": "stderr",
     "output_type": "stream",
     "text": [
      "C:\\Users\\u144572\\AppData\\Local\\Temp\\ipykernel_71452\\562954933.py:116: FutureWarning: get_duration() keyword argument 'filename' has been renamed to 'path' in version 0.10.0.\n",
      "\tThis alias will be removed in version 1.0.\n",
      "  audio_length = librosa.get_duration(filename=f'{root}{file_name}.wav')\n",
      "C:\\Users\\u144572\\AppData\\Roaming\\Python\\Python39\\site-packages\\tensorflow\\python\\keras\\engine\\base_layer_v1.py:1694: UserWarning: `layer.apply` is deprecated and will be removed in a future version. Please use `layer.__call__` method instead.\n",
      "  warnings.warn('`layer.apply` is deprecated and '\n",
      "C:\\Users\\u144572\\AppData\\Roaming\\Python\\Python39\\site-packages\\tensorflow\\python\\keras\\legacy_tf_layers\\core.py:318: UserWarning: `tf.layers.flatten` is deprecated and will be removed in a future version. Please use `tf.keras.layers.Flatten` instead.\n",
      "  warnings.warn('`tf.layers.flatten` is deprecated and '\n"
     ]
    },
    {
     "name": "stdout",
     "output_type": "stream",
     "text": [
      "INFO:tensorflow:Restoring parameters from decison_tree_model/vggish_model.ckpt\n"
     ]
    },
    {
     "name": "stderr",
     "output_type": "stream",
     "text": [
      "C:\\Users\\u144572\\AppData\\Local\\Temp\\ipykernel_71452\\562954933.py:116: FutureWarning: get_duration() keyword argument 'filename' has been renamed to 'path' in version 0.10.0.\n",
      "\tThis alias will be removed in version 1.0.\n",
      "  audio_length = librosa.get_duration(filename=f'{root}{file_name}.wav')\n",
      "C:\\Users\\u144572\\AppData\\Roaming\\Python\\Python39\\site-packages\\tensorflow\\python\\keras\\engine\\base_layer_v1.py:1694: UserWarning: `layer.apply` is deprecated and will be removed in a future version. Please use `layer.__call__` method instead.\n",
      "  warnings.warn('`layer.apply` is deprecated and '\n",
      "C:\\Users\\u144572\\AppData\\Roaming\\Python\\Python39\\site-packages\\tensorflow\\python\\keras\\legacy_tf_layers\\core.py:318: UserWarning: `tf.layers.flatten` is deprecated and will be removed in a future version. Please use `tf.keras.layers.Flatten` instead.\n",
      "  warnings.warn('`tf.layers.flatten` is deprecated and '\n"
     ]
    },
    {
     "name": "stdout",
     "output_type": "stream",
     "text": [
      "INFO:tensorflow:Restoring parameters from decison_tree_model/vggish_model.ckpt\n"
     ]
    },
    {
     "name": "stderr",
     "output_type": "stream",
     "text": [
      "C:\\Users\\u144572\\AppData\\Local\\Temp\\ipykernel_71452\\562954933.py:116: FutureWarning: get_duration() keyword argument 'filename' has been renamed to 'path' in version 0.10.0.\n",
      "\tThis alias will be removed in version 1.0.\n",
      "  audio_length = librosa.get_duration(filename=f'{root}{file_name}.wav')\n",
      "C:\\Users\\u144572\\AppData\\Roaming\\Python\\Python39\\site-packages\\tensorflow\\python\\keras\\engine\\base_layer_v1.py:1694: UserWarning: `layer.apply` is deprecated and will be removed in a future version. Please use `layer.__call__` method instead.\n",
      "  warnings.warn('`layer.apply` is deprecated and '\n",
      "C:\\Users\\u144572\\AppData\\Roaming\\Python\\Python39\\site-packages\\tensorflow\\python\\keras\\legacy_tf_layers\\core.py:318: UserWarning: `tf.layers.flatten` is deprecated and will be removed in a future version. Please use `tf.keras.layers.Flatten` instead.\n",
      "  warnings.warn('`tf.layers.flatten` is deprecated and '\n"
     ]
    },
    {
     "name": "stdout",
     "output_type": "stream",
     "text": [
      "INFO:tensorflow:Restoring parameters from decison_tree_model/vggish_model.ckpt\n"
     ]
    },
    {
     "name": "stderr",
     "output_type": "stream",
     "text": [
      "C:\\Users\\u144572\\AppData\\Local\\Temp\\ipykernel_71452\\562954933.py:116: FutureWarning: get_duration() keyword argument 'filename' has been renamed to 'path' in version 0.10.0.\n",
      "\tThis alias will be removed in version 1.0.\n",
      "  audio_length = librosa.get_duration(filename=f'{root}{file_name}.wav')\n",
      "C:\\Users\\u144572\\AppData\\Roaming\\Python\\Python39\\site-packages\\tensorflow\\python\\keras\\engine\\base_layer_v1.py:1694: UserWarning: `layer.apply` is deprecated and will be removed in a future version. Please use `layer.__call__` method instead.\n",
      "  warnings.warn('`layer.apply` is deprecated and '\n",
      "C:\\Users\\u144572\\AppData\\Roaming\\Python\\Python39\\site-packages\\tensorflow\\python\\keras\\legacy_tf_layers\\core.py:318: UserWarning: `tf.layers.flatten` is deprecated and will be removed in a future version. Please use `tf.keras.layers.Flatten` instead.\n",
      "  warnings.warn('`tf.layers.flatten` is deprecated and '\n"
     ]
    },
    {
     "name": "stdout",
     "output_type": "stream",
     "text": [
      "INFO:tensorflow:Restoring parameters from decison_tree_model/vggish_model.ckpt\n"
     ]
    },
    {
     "name": "stderr",
     "output_type": "stream",
     "text": [
      "C:\\Users\\u144572\\AppData\\Local\\Temp\\ipykernel_71452\\562954933.py:116: FutureWarning: get_duration() keyword argument 'filename' has been renamed to 'path' in version 0.10.0.\n",
      "\tThis alias will be removed in version 1.0.\n",
      "  audio_length = librosa.get_duration(filename=f'{root}{file_name}.wav')\n",
      "C:\\Users\\u144572\\AppData\\Roaming\\Python\\Python39\\site-packages\\tensorflow\\python\\keras\\engine\\base_layer_v1.py:1694: UserWarning: `layer.apply` is deprecated and will be removed in a future version. Please use `layer.__call__` method instead.\n",
      "  warnings.warn('`layer.apply` is deprecated and '\n",
      "C:\\Users\\u144572\\AppData\\Roaming\\Python\\Python39\\site-packages\\tensorflow\\python\\keras\\legacy_tf_layers\\core.py:318: UserWarning: `tf.layers.flatten` is deprecated and will be removed in a future version. Please use `tf.keras.layers.Flatten` instead.\n",
      "  warnings.warn('`tf.layers.flatten` is deprecated and '\n"
     ]
    },
    {
     "name": "stdout",
     "output_type": "stream",
     "text": [
      "INFO:tensorflow:Restoring parameters from decison_tree_model/vggish_model.ckpt\n"
     ]
    },
    {
     "name": "stderr",
     "output_type": "stream",
     "text": [
      "C:\\Users\\u144572\\AppData\\Local\\Temp\\ipykernel_71452\\562954933.py:116: FutureWarning: get_duration() keyword argument 'filename' has been renamed to 'path' in version 0.10.0.\n",
      "\tThis alias will be removed in version 1.0.\n",
      "  audio_length = librosa.get_duration(filename=f'{root}{file_name}.wav')\n",
      "C:\\Users\\u144572\\AppData\\Roaming\\Python\\Python39\\site-packages\\tensorflow\\python\\keras\\engine\\base_layer_v1.py:1694: UserWarning: `layer.apply` is deprecated and will be removed in a future version. Please use `layer.__call__` method instead.\n",
      "  warnings.warn('`layer.apply` is deprecated and '\n",
      "C:\\Users\\u144572\\AppData\\Roaming\\Python\\Python39\\site-packages\\tensorflow\\python\\keras\\legacy_tf_layers\\core.py:318: UserWarning: `tf.layers.flatten` is deprecated and will be removed in a future version. Please use `tf.keras.layers.Flatten` instead.\n",
      "  warnings.warn('`tf.layers.flatten` is deprecated and '\n"
     ]
    },
    {
     "name": "stdout",
     "output_type": "stream",
     "text": [
      "INFO:tensorflow:Restoring parameters from decison_tree_model/vggish_model.ckpt\n"
     ]
    },
    {
     "name": "stderr",
     "output_type": "stream",
     "text": [
      "C:\\Users\\u144572\\AppData\\Local\\Temp\\ipykernel_71452\\562954933.py:116: FutureWarning: get_duration() keyword argument 'filename' has been renamed to 'path' in version 0.10.0.\n",
      "\tThis alias will be removed in version 1.0.\n",
      "  audio_length = librosa.get_duration(filename=f'{root}{file_name}.wav')\n",
      "C:\\Users\\u144572\\AppData\\Roaming\\Python\\Python39\\site-packages\\tensorflow\\python\\keras\\engine\\base_layer_v1.py:1694: UserWarning: `layer.apply` is deprecated and will be removed in a future version. Please use `layer.__call__` method instead.\n",
      "  warnings.warn('`layer.apply` is deprecated and '\n",
      "C:\\Users\\u144572\\AppData\\Roaming\\Python\\Python39\\site-packages\\tensorflow\\python\\keras\\legacy_tf_layers\\core.py:318: UserWarning: `tf.layers.flatten` is deprecated and will be removed in a future version. Please use `tf.keras.layers.Flatten` instead.\n",
      "  warnings.warn('`tf.layers.flatten` is deprecated and '\n"
     ]
    },
    {
     "name": "stdout",
     "output_type": "stream",
     "text": [
      "INFO:tensorflow:Restoring parameters from decison_tree_model/vggish_model.ckpt\n",
      "                      Metric      Value\n",
      "0                mae_percent  13.750000\n",
      "1  Mean Absolute Error (MAE)   2.689264\n",
      "2   Mean Squared Error (MSE)  13.857193\n",
      "3                   R² Score   0.316978\n"
     ]
    },
    {
     "data": {
      "image/png": "[encoded data removed]",
      "text/plain": [
       "<Figure size 1200x600 with 1 Axes>"
      ]
     },
     "metadata": {},
     "output_type": "display_data"
    }
   ],
   "source": [
    "import re\n",
    "import librosa\n",
    "import numpy as np\n",
    "import pandas as pd\n",
    "import matplotlib.pyplot as plt\n",
    "import seaborn as sns\n",
    "import os\n",
    "from keras.models import load_model\n",
    "from sklearn.metrics import mean_absolute_error, mean_squared_error, r2_score, mean_absolute_percentage_error\n",
    "from model_test import vggish_input, vggish_slim, vggish_params, vggish_postprocess\n",
    "import tensorflow.compat.v1 as tf\n",
    "import numpy as np\n",
    "import pandas as pd\n",
    "import joblib\n",
    "\n",
    "\n",
    "# root = 'own_data_test/'\n",
    "# root = \"../own_data_train/\"\n",
    "# root = 'own_data_micro_pg/'\n",
    "root = 'own_data_micro_pg_clear/'\n",
    "\n",
    "filenames = [s.split('.')[0] for s in os.listdir(path = root) if '.wav' in s]\n",
    "# Load your model here\n",
    "MODEL_PATH='decison_tree_model/rf_for_cycle_silence_noise.pkl'\n",
    "\n",
    "def get_array_of_predictions(file_name):\n",
    "    # Initialize all variables in the model, then load the VGGish checkpoint\n",
    "    with tf.Graph().as_default(), tf.Session() as sess:\n",
    "        embeddings = vggish_slim.define_vggish_slim()\n",
    "        rf_classifier = joblib.load(MODEL_PATH)\n",
    "\n",
    "        sess.run(tf.global_variables_initializer())\n",
    "        vggish_slim.load_vggish_slim_checkpoint(sess, 'decison_tree_model/vggish_model.ckpt')\n",
    "        pproc = vggish_postprocess.Postprocessor('decison_tree_model/vggish_pca_params.npz')\n",
    "\n",
    "        # Get the input tensor\n",
    "\n",
    "        features_tensor = sess.graph.get_tensor_by_name(vggish_params.INPUT_TENSOR_NAME)\n",
    "\n",
    "        feautures = vggish_input.wavfile_to_examples(root + file_name + \".wav\")\n",
    "\n",
    "        predictions = []\n",
    "        # for one_s_window in feautures:\n",
    "        #     print(one_s_window)\n",
    "        embedding_batch = np.array(sess.run(embeddings, feed_dict={features_tensor: feautures}))\n",
    "\n",
    "        postprocessed_batch = pproc.postprocess(embedding_batch)\n",
    "\n",
    "        df = pd.DataFrame(postprocessed_batch)  # 128 features vector\n",
    "\n",
    "        # Random Forest prediction from VGGish embeddings\n",
    "\n",
    "        predictions.append(rf_classifier.predict(df))\n",
    "    \n",
    "    # Find indices where values appear only once (changes in adjacent values)\n",
    "    for i in range(1, len(predictions) - 1):\n",
    "        if predictions[i] != predictions[i - 1] and predictions[i] != predictions[i + 1]:\n",
    "            predictions[i] = predictions[i - 1]  # Set to the previous value to make it consistent\n",
    "\n",
    "    # Handle the first and last element separately\n",
    "    if len(predictions) > 1 and predictions[0] != predictions[1]:\n",
    "        predictions[0] = predictions[1]\n",
    "    if len(predictions) > 1 and predictions[-1] != predictions[-2]:\n",
    "        predictions[-1] = predictions[-2]\n",
    "\n",
    "    return(predictions)\n",
    "\n",
    "\n",
    "def get_rr_from_wav(file_name):\n",
    "    predictions = get_array_of_predictions(file_name)\n",
    "    cycles_no = 0\n",
    "    in_group = False\n",
    "    for i in range(1, len(predictions[0])):\n",
    "        if predictions[0][i] == 0 and predictions[0][i - 1] == 0:\n",
    "            if not in_group:\n",
    "                cycles_no += 1\n",
    "                in_group = True\n",
    "        else:\n",
    "            in_group = False\n",
    "    return cycles_no\n",
    "    # predictions = get_array_of_predictions(file_name)[0]\n",
    "    # count = 0\n",
    "    # i = 0\n",
    "    # n = len(predictions)\n",
    "\n",
    "    # while i < n:\n",
    "    #     if predictions[i] == 0:\n",
    "    #         group_length = 0\n",
    "\n",
    "    #         # Count consecutive zeros\n",
    "    #         while i < n and predictions[i] == 0:\n",
    "    #             group_length += 1\n",
    "    #             i += 1\n",
    "\n",
    "    #         # Check if there is a single non-zero element followed by more zeros\n",
    "    #         if i < n and group_length >= 2 and predictions[i] != 0:\n",
    "    #             if i + 1 < n and predictions[i + 1] == 0:\n",
    "    #                 i += 1  # Skip the single non-zero element\n",
    "    #                 group_length += 1\n",
    "\n",
    "    #                 # Count the next group of zeros\n",
    "    #                 while i < n and predictions[i] == 0:\n",
    "    #                     group_length += 1\n",
    "    #                     i += 1\n",
    "\n",
    "    #         if group_length >= 2:\n",
    "    #             count += 1\n",
    "    #     else:\n",
    "    #         i += 1\n",
    "\n",
    "    # return count\n",
    "\n",
    "\n",
    "def calculated_rr_and_predicted(file_name, root):\n",
    "    respiratory_cycle_number = int(re.search(r'\\d+', file_name).group())\n",
    "    audio_length = librosa.get_duration(filename=f'{root}{file_name}.wav')\n",
    "    rr = respiratory_cycle_number / (audio_length / 60)\n",
    "    if 16 < rr < 17:\n",
    "        print(file_name)\n",
    "\n",
    "    # Load audio with 22050 Hz sampling rate\n",
    "    data_x, sampling_rate = librosa.load(f'{root}{file_name}.wav', res_type='kaiser_fast')\n",
    "    \n",
    "    # Extract features using MFCC (50 features)\n",
    "    features = np.mean(librosa.feature.mfcc(y=data_x, sr=sampling_rate, n_mfcc=50).T, axis=0)\n",
    "\n",
    "    # Reshape features to match the model's input shape (1, 50, 1)\n",
    "    features = features.reshape(1, 50, 1)\n",
    "    \n",
    "    # Get the prediction\n",
    "    predicted_value = get_rr_from_wav(file_name) / (audio_length / 60)\n",
    "\n",
    "    return pd.DataFrame(data=[[file_name, rr, \n",
    "                            #    (predicted_value / (audio_length / 60))\n",
    "                               predicted_value\n",
    "                               ]], columns=['patient_id', 'rr', \"rr_predicted\"])\n",
    "\n",
    "i_list = []\n",
    "for s in filenames:\n",
    "    i = calculated_rr_and_predicted(s, root)\n",
    "    i_list.append(i)\n",
    "recording_info = pd.concat(i_list, axis=0)\n",
    "\n",
    "# Calculate metrics\n",
    "mae_percent = mean_absolute_percentage_error(recording_info['rr'], recording_info['rr_predicted'])\n",
    "mae = mean_absolute_error(recording_info['rr'], recording_info['rr_predicted'])\n",
    "mse = mean_squared_error(recording_info['rr'], recording_info['rr_predicted'])\n",
    "r2 = r2_score(recording_info['rr'], recording_info['rr_predicted'])\n",
    "\n",
    "metrics_df = pd.DataFrame({\n",
    "    'Metric': ['mae_percent', 'Mean Absolute Error (MAE)', 'Mean Squared Error (MSE)', 'R² Score'],\n",
    "    'Value': [mae_percent * 100, mae, mse, r2]\n",
    "})\n",
    "\n",
    "import os\n",
    "if not os.path.isdir(\"plots_test\"):\n",
    "    os.makedirs('plots_test')\n",
    "\n",
    "# Display the metrics\n",
    "print(metrics_df)\n",
    "\n",
    "# Plotting\n",
    "def plot_results(df):\n",
    "    # Predicted vs Actual Values with Linear Regression\n",
    "    plt.figure(figsize=(12, 6))\n",
    "    sns.regplot(x='rr', y='rr_predicted', data=df, scatter_kws={'s':10}, line_kws={\"color\": \"red\"})\n",
    "    plt.plot([min(df['rr']), max(df['rr'])], [min(df['rr']), max(df['rr'])], color='blue', linestyle='dashed')  # Line of perfect prediction\n",
    "    plt.title('Wartość przewidziana vs rzeczywista')\n",
    "    plt.xlabel('Wartość rzeczywista')\n",
    "    plt.ylabel('Wartość przewidziana')\n",
    "    plt.savefig(\"plots_test/pred_vs_rel\")\n",
    "    plt.show()\n",
    "# Call the plotting function\n",
    "plot_results(recording_info)"
   ]
  },
  {
   "cell_type": "code",
   "execution_count": 2,
   "metadata": {},
   "outputs": [
    {
     "name": "stdout",
     "output_type": "stream",
     "text": [
      "WARNING:tensorflow:From c:\\Users\\u144572\\self_development\\sed_online\\compare_ml_with_decision_tree\\model_test\\vggish_slim.py:134: The name tf.train.Saver is deprecated. Please use tf.compat.v1.train.Saver instead.\n",
      "\n",
      "INFO:tensorflow:Restoring parameters from decison_tree_model/vggish_model.ckpt\n"
     ]
    },
    {
     "name": "stderr",
     "output_type": "stream",
     "text": [
      "C:\\Users\\u144572\\AppData\\Local\\Temp\\ipykernel_10632\\2257152268.py:75: FutureWarning: get_duration() keyword argument 'filename' has been renamed to 'path' in version 0.10.0.\n",
      "\tThis alias will be removed in version 1.0.\n",
      "  audio_len = librosa.get_duration(filename=root + file_name + \".wav\")\n",
      "C:\\Users\\u144572\\AppData\\Roaming\\Python\\Python39\\site-packages\\tensorflow\\python\\keras\\engine\\base_layer_v1.py:1694: UserWarning: `layer.apply` is deprecated and will be removed in a future version. Please use `layer.__call__` method instead.\n",
      "  warnings.warn('`layer.apply` is deprecated and '\n",
      "C:\\Users\\u144572\\AppData\\Roaming\\Python\\Python39\\site-packages\\tensorflow\\python\\keras\\legacy_tf_layers\\core.py:318: UserWarning: `tf.layers.flatten` is deprecated and will be removed in a future version. Please use `tf.keras.layers.Flatten` instead.\n",
      "  warnings.warn('`tf.layers.flatten` is deprecated and '\n"
     ]
    },
    {
     "name": "stdout",
     "output_type": "stream",
     "text": [
      "INFO:tensorflow:Restoring parameters from decison_tree_model/vggish_model.ckpt\n"
     ]
    },
    {
     "name": "stderr",
     "output_type": "stream",
     "text": [
      "C:\\Users\\u144572\\AppData\\Local\\Temp\\ipykernel_10632\\2257152268.py:75: FutureWarning: get_duration() keyword argument 'filename' has been renamed to 'path' in version 0.10.0.\n",
      "\tThis alias will be removed in version 1.0.\n",
      "  audio_len = librosa.get_duration(filename=root + file_name + \".wav\")\n",
      "C:\\Users\\u144572\\AppData\\Roaming\\Python\\Python39\\site-packages\\tensorflow\\python\\keras\\engine\\base_layer_v1.py:1694: UserWarning: `layer.apply` is deprecated and will be removed in a future version. Please use `layer.__call__` method instead.\n",
      "  warnings.warn('`layer.apply` is deprecated and '\n",
      "C:\\Users\\u144572\\AppData\\Roaming\\Python\\Python39\\site-packages\\tensorflow\\python\\keras\\legacy_tf_layers\\core.py:318: UserWarning: `tf.layers.flatten` is deprecated and will be removed in a future version. Please use `tf.keras.layers.Flatten` instead.\n",
      "  warnings.warn('`tf.layers.flatten` is deprecated and '\n"
     ]
    },
    {
     "name": "stdout",
     "output_type": "stream",
     "text": [
      "INFO:tensorflow:Restoring parameters from decison_tree_model/vggish_model.ckpt\n"
     ]
    },
    {
     "name": "stderr",
     "output_type": "stream",
     "text": [
      "C:\\Users\\u144572\\AppData\\Local\\Temp\\ipykernel_10632\\2257152268.py:75: FutureWarning: get_duration() keyword argument 'filename' has been renamed to 'path' in version 0.10.0.\n",
      "\tThis alias will be removed in version 1.0.\n",
      "  audio_len = librosa.get_duration(filename=root + file_name + \".wav\")\n",
      "C:\\Users\\u144572\\AppData\\Roaming\\Python\\Python39\\site-packages\\tensorflow\\python\\keras\\engine\\base_layer_v1.py:1694: UserWarning: `layer.apply` is deprecated and will be removed in a future version. Please use `layer.__call__` method instead.\n",
      "  warnings.warn('`layer.apply` is deprecated and '\n",
      "C:\\Users\\u144572\\AppData\\Roaming\\Python\\Python39\\site-packages\\tensorflow\\python\\keras\\legacy_tf_layers\\core.py:318: UserWarning: `tf.layers.flatten` is deprecated and will be removed in a future version. Please use `tf.keras.layers.Flatten` instead.\n",
      "  warnings.warn('`tf.layers.flatten` is deprecated and '\n"
     ]
    },
    {
     "name": "stdout",
     "output_type": "stream",
     "text": [
      "INFO:tensorflow:Restoring parameters from decison_tree_model/vggish_model.ckpt\n"
     ]
    },
    {
     "name": "stderr",
     "output_type": "stream",
     "text": [
      "C:\\Users\\u144572\\AppData\\Local\\Temp\\ipykernel_10632\\2257152268.py:75: FutureWarning: get_duration() keyword argument 'filename' has been renamed to 'path' in version 0.10.0.\n",
      "\tThis alias will be removed in version 1.0.\n",
      "  audio_len = librosa.get_duration(filename=root + file_name + \".wav\")\n",
      "C:\\Users\\u144572\\AppData\\Roaming\\Python\\Python39\\site-packages\\tensorflow\\python\\keras\\engine\\base_layer_v1.py:1694: UserWarning: `layer.apply` is deprecated and will be removed in a future version. Please use `layer.__call__` method instead.\n",
      "  warnings.warn('`layer.apply` is deprecated and '\n",
      "C:\\Users\\u144572\\AppData\\Roaming\\Python\\Python39\\site-packages\\tensorflow\\python\\keras\\legacy_tf_layers\\core.py:318: UserWarning: `tf.layers.flatten` is deprecated and will be removed in a future version. Please use `tf.keras.layers.Flatten` instead.\n",
      "  warnings.warn('`tf.layers.flatten` is deprecated and '\n"
     ]
    },
    {
     "name": "stdout",
     "output_type": "stream",
     "text": [
      "INFO:tensorflow:Restoring parameters from decison_tree_model/vggish_model.ckpt\n"
     ]
    },
    {
     "name": "stderr",
     "output_type": "stream",
     "text": [
      "C:\\Users\\u144572\\AppData\\Local\\Temp\\ipykernel_10632\\2257152268.py:75: FutureWarning: get_duration() keyword argument 'filename' has been renamed to 'path' in version 0.10.0.\n",
      "\tThis alias will be removed in version 1.0.\n",
      "  audio_len = librosa.get_duration(filename=root + file_name + \".wav\")\n",
      "C:\\Users\\u144572\\AppData\\Roaming\\Python\\Python39\\site-packages\\tensorflow\\python\\keras\\engine\\base_layer_v1.py:1694: UserWarning: `layer.apply` is deprecated and will be removed in a future version. Please use `layer.__call__` method instead.\n",
      "  warnings.warn('`layer.apply` is deprecated and '\n",
      "C:\\Users\\u144572\\AppData\\Roaming\\Python\\Python39\\site-packages\\tensorflow\\python\\keras\\legacy_tf_layers\\core.py:318: UserWarning: `tf.layers.flatten` is deprecated and will be removed in a future version. Please use `tf.keras.layers.Flatten` instead.\n",
      "  warnings.warn('`tf.layers.flatten` is deprecated and '\n"
     ]
    },
    {
     "name": "stdout",
     "output_type": "stream",
     "text": [
      "INFO:tensorflow:Restoring parameters from decison_tree_model/vggish_model.ckpt\n"
     ]
    },
    {
     "name": "stderr",
     "output_type": "stream",
     "text": [
      "C:\\Users\\u144572\\AppData\\Local\\Temp\\ipykernel_10632\\2257152268.py:75: FutureWarning: get_duration() keyword argument 'filename' has been renamed to 'path' in version 0.10.0.\n",
      "\tThis alias will be removed in version 1.0.\n",
      "  audio_len = librosa.get_duration(filename=root + file_name + \".wav\")\n",
      "C:\\Users\\u144572\\AppData\\Roaming\\Python\\Python39\\site-packages\\tensorflow\\python\\keras\\engine\\base_layer_v1.py:1694: UserWarning: `layer.apply` is deprecated and will be removed in a future version. Please use `layer.__call__` method instead.\n",
      "  warnings.warn('`layer.apply` is deprecated and '\n",
      "C:\\Users\\u144572\\AppData\\Roaming\\Python\\Python39\\site-packages\\tensorflow\\python\\keras\\legacy_tf_layers\\core.py:318: UserWarning: `tf.layers.flatten` is deprecated and will be removed in a future version. Please use `tf.keras.layers.Flatten` instead.\n",
      "  warnings.warn('`tf.layers.flatten` is deprecated and '\n"
     ]
    },
    {
     "name": "stdout",
     "output_type": "stream",
     "text": [
      "INFO:tensorflow:Restoring parameters from decison_tree_model/vggish_model.ckpt\n"
     ]
    },
    {
     "name": "stderr",
     "output_type": "stream",
     "text": [
      "C:\\Users\\u144572\\AppData\\Local\\Temp\\ipykernel_10632\\2257152268.py:75: FutureWarning: get_duration() keyword argument 'filename' has been renamed to 'path' in version 0.10.0.\n",
      "\tThis alias will be removed in version 1.0.\n",
      "  audio_len = librosa.get_duration(filename=root + file_name + \".wav\")\n",
      "C:\\Users\\u144572\\AppData\\Roaming\\Python\\Python39\\site-packages\\tensorflow\\python\\keras\\engine\\base_layer_v1.py:1694: UserWarning: `layer.apply` is deprecated and will be removed in a future version. Please use `layer.__call__` method instead.\n",
      "  warnings.warn('`layer.apply` is deprecated and '\n",
      "C:\\Users\\u144572\\AppData\\Roaming\\Python\\Python39\\site-packages\\tensorflow\\python\\keras\\legacy_tf_layers\\core.py:318: UserWarning: `tf.layers.flatten` is deprecated and will be removed in a future version. Please use `tf.keras.layers.Flatten` instead.\n",
      "  warnings.warn('`tf.layers.flatten` is deprecated and '\n"
     ]
    },
    {
     "name": "stdout",
     "output_type": "stream",
     "text": [
      "INFO:tensorflow:Restoring parameters from decison_tree_model/vggish_model.ckpt\n"
     ]
    },
    {
     "name": "stderr",
     "output_type": "stream",
     "text": [
      "C:\\Users\\u144572\\AppData\\Local\\Temp\\ipykernel_10632\\2257152268.py:75: FutureWarning: get_duration() keyword argument 'filename' has been renamed to 'path' in version 0.10.0.\n",
      "\tThis alias will be removed in version 1.0.\n",
      "  audio_len = librosa.get_duration(filename=root + file_name + \".wav\")\n",
      "C:\\Users\\u144572\\AppData\\Roaming\\Python\\Python39\\site-packages\\tensorflow\\python\\keras\\engine\\base_layer_v1.py:1694: UserWarning: `layer.apply` is deprecated and will be removed in a future version. Please use `layer.__call__` method instead.\n",
      "  warnings.warn('`layer.apply` is deprecated and '\n",
      "C:\\Users\\u144572\\AppData\\Roaming\\Python\\Python39\\site-packages\\tensorflow\\python\\keras\\legacy_tf_layers\\core.py:318: UserWarning: `tf.layers.flatten` is deprecated and will be removed in a future version. Please use `tf.keras.layers.Flatten` instead.\n",
      "  warnings.warn('`tf.layers.flatten` is deprecated and '\n"
     ]
    },
    {
     "name": "stdout",
     "output_type": "stream",
     "text": [
      "INFO:tensorflow:Restoring parameters from decison_tree_model/vggish_model.ckpt\n"
     ]
    },
    {
     "name": "stderr",
     "output_type": "stream",
     "text": [
      "C:\\Users\\u144572\\AppData\\Local\\Temp\\ipykernel_10632\\2257152268.py:75: FutureWarning: get_duration() keyword argument 'filename' has been renamed to 'path' in version 0.10.0.\n",
      "\tThis alias will be removed in version 1.0.\n",
      "  audio_len = librosa.get_duration(filename=root + file_name + \".wav\")\n",
      "C:\\Users\\u144572\\AppData\\Roaming\\Python\\Python39\\site-packages\\tensorflow\\python\\keras\\engine\\base_layer_v1.py:1694: UserWarning: `layer.apply` is deprecated and will be removed in a future version. Please use `layer.__call__` method instead.\n",
      "  warnings.warn('`layer.apply` is deprecated and '\n",
      "C:\\Users\\u144572\\AppData\\Roaming\\Python\\Python39\\site-packages\\tensorflow\\python\\keras\\legacy_tf_layers\\core.py:318: UserWarning: `tf.layers.flatten` is deprecated and will be removed in a future version. Please use `tf.keras.layers.Flatten` instead.\n",
      "  warnings.warn('`tf.layers.flatten` is deprecated and '\n"
     ]
    },
    {
     "name": "stdout",
     "output_type": "stream",
     "text": [
      "INFO:tensorflow:Restoring parameters from decison_tree_model/vggish_model.ckpt\n",
      "1.2238424749999999 0.9293856083333331\n"
     ]
    },
    {
     "name": "stderr",
     "output_type": "stream",
     "text": [
      "C:\\Users\\u144572\\AppData\\Local\\Temp\\ipykernel_10632\\2257152268.py:75: FutureWarning: get_duration() keyword argument 'filename' has been renamed to 'path' in version 0.10.0.\n",
      "\tThis alias will be removed in version 1.0.\n",
      "  audio_len = librosa.get_duration(filename=root + file_name + \".wav\")\n"
     ]
    }
   ],
   "source": [
    "import re\n",
    "import librosa\n",
    "import numpy as np\n",
    "import pandas as pd\n",
    "import matplotlib.pyplot as plt\n",
    "import seaborn as sns\n",
    "import os\n",
    "from keras.models import load_model\n",
    "from sklearn.metrics import mean_absolute_error, mean_squared_error, r2_score, mean_absolute_percentage_error\n",
    "from model_test import vggish_input, vggish_slim, vggish_params, vggish_postprocess\n",
    "import tensorflow.compat.v1 as tf\n",
    "import numpy as np\n",
    "import pandas as pd\n",
    "import joblib\n",
    "import librosa\n",
    "import csv\n",
    "import ast\n",
    "\n",
    "root = 'own_data_micro_pg_clear/'\n",
    "# root = '../own_data_train/'\n",
    "# root = 'own_data_test/'\n",
    "\n",
    "filenames = [s.split('.')[0] for s in os.listdir(path = root) if '.wav' in s]\n",
    "# Load your model here\n",
    "MODEL_PATH='../model/rf_for_cycle_silence_noise.pkl'\n",
    "\n",
    "def get_array_of_predictions_for_delta(file_name):\n",
    "    # Initialize all variables in the model, then load the VGGish checkpoint\n",
    "    with tf.Graph().as_default(), tf.Session() as sess:\n",
    "        embeddings = vggish_slim.define_vggish_slim()\n",
    "        rf_classifier = joblib.load(MODEL_PATH)\n",
    "\n",
    "        sess.run(tf.global_variables_initializer())\n",
    "        vggish_slim.load_vggish_slim_checkpoint(sess, 'decison_tree_model/vggish_model.ckpt')\n",
    "        pproc = vggish_postprocess.Postprocessor('decison_tree_model/vggish_pca_params.npz')\n",
    "\n",
    "        # Get the input tensor\n",
    "\n",
    "        features_tensor = sess.graph.get_tensor_by_name(vggish_params.INPUT_TENSOR_NAME)\n",
    "\n",
    "        feautures = vggish_input.wavfile_to_examples(root + file_name + \".wav\")\n",
    "\n",
    "        predictions = []\n",
    "        # for one_s_window in feautures:\n",
    "        #     print(one_s_window)\n",
    "        embedding_batch = np.array(sess.run(embeddings, feed_dict={features_tensor: feautures}))\n",
    "\n",
    "        postprocessed_batch = pproc.postprocess(embedding_batch)\n",
    "\n",
    "        df = pd.DataFrame(postprocessed_batch)  # 128 features vector\n",
    "\n",
    "        # Random Forest prediction from VGGish embeddings\n",
    "\n",
    "        predictions.append(rf_classifier.predict(df))\n",
    "    \n",
    "    # Find indices where values appear only once (changes in adjacent values)\n",
    "    for i in range(1, len(predictions) - 1):\n",
    "        if predictions[i] != predictions[i - 1] and predictions[i] != predictions[i + 1]:\n",
    "            predictions[i] = predictions[i - 1]  # Set to the previous value to make it consistent\n",
    "\n",
    "    # Handle the first and last element separately\n",
    "    if len(predictions) > 1 and predictions[0] != predictions[1]:\n",
    "        predictions[0] = predictions[1]\n",
    "    if len(predictions) > 1 and predictions[-1] != predictions[-2]:\n",
    "        predictions[-1] = predictions[-2]\n",
    "\n",
    "    return(predictions[0])\n",
    "\n",
    "def calculate_tmstps(file_name, pred_list, csv_path):\n",
    "    total_diff_start = 0.0\n",
    "    total_diff_stop = 0.0\n",
    "\n",
    "    data = np.array(pred_list)\n",
    "\n",
    "    audio_len = librosa.get_duration(filename=root + file_name + \".wav\")\n",
    "    time_interval = audio_len / len(data)\n",
    "\n",
    "    # Find the start and end indices of each group of respiratory cycles\n",
    "    groups = np.where(data != 0)[0]\n",
    "    start_indices = [groups[0]]\n",
    "    end_indices = []\n",
    "\n",
    "    for i in range(1, len(groups)):\n",
    "        if groups[i] != groups[i - 1] + 1:\n",
    "            end_indices.append(groups[i - 1])\n",
    "            start_indices.append(groups[i])\n",
    "\n",
    "    end_indices.append(groups[-1])\n",
    "\n",
    "    for start, end in zip(start_indices, end_indices):\n",
    "        start_time = round(start * time_interval, 2)\n",
    "        end_time = round((end + 1) * time_interval, 2)  # end + 1 to include the end index\n",
    "        # print(start_time, end_time)\n",
    "\n",
    "        with open(csv_path + \".csv\", 'r', encoding='utf-8') as csv_file:\n",
    "            reader = csv.reader(csv_file, delimiter=\",\")\n",
    "            next(reader)  # Skip the header row\n",
    "\n",
    "            for row in reader:\n",
    "                # print( row[0][:-3])\n",
    "                if file_name == row[0][:-4]:\n",
    "                    start_timestamps = ast.literal_eval(row[1])\n",
    "                    stop_timestamps = ast.literal_eval(row[2])\n",
    "\n",
    "                    closest_value = min(start_timestamps, key=lambda x: abs(x - start_time))\n",
    "                    total_diff_start += abs(start_time - closest_value)\n",
    "\n",
    "                    closest_value = min(stop_timestamps, key=lambda x: abs(x - end_time))\n",
    "                    total_diff_stop += abs(end_time - closest_value)\n",
    "\n",
    "    return total_diff_start, total_diff_stop\n",
    "\n",
    "i_list = []\n",
    "err_start_total = 0\n",
    "err_stop_total = 0\n",
    "for s in filenames:\n",
    "    i = get_array_of_predictions_for_delta(s)\n",
    "    err_start, err_stop = calculate_tmstps(s, i, \"own_data_micro_pg_clear_timestamps\")\n",
    "    err_start_total += err_start\n",
    "    err_stop_total += err_stop\n",
    "print(err_start_total / 24, err_stop_total / 24)\n",
    "# recording_info = pd.concat(i_list, axis=0)\n",
    "# print(i_list)\n"
   ]
  }
 ],
 "metadata": {
  "kernelspec": {
   "display_name": "Python 3",
   "language": "python",
   "name": "python3"
  },
  "language_info": {
   "codemirror_mode": {
    "name": "ipython",
    "version": 3
   },
   "file_extension": ".py",
   "mimetype": "text/x-python",
   "name": "python",
   "nbconvert_exporter": "python",
   "pygments_lexer": "ipython3",
   "version": "3.9.7"
  }
 },
 "nbformat": 4,
 "nbformat_minor": 2
}
